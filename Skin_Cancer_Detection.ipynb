{
 "cells": [
  {
   "cell_type": "code",
   "execution_count": 1,
   "metadata": {
    "id": "bnhWr6lsmujW"
   },
   "outputs": [],
   "source": [
    "train_dir = \"Train data path\" \n",
    "valid_dir = \"Validation data path\"\n",
    "test_dir = \"Test data path\" "
   ]
  },
  {
   "cell_type": "code",
   "execution_count": 2,
   "metadata": {
    "id": "gXBQcwoeoFN3"
   },
   "outputs": [],
   "source": [
    "import tensorflow as tf\n",
    "from tensorflow import keras\n",
    "from keras.preprocessing.image import ImageDataGenerator\n",
    "from keras.applications import vgg16\n",
    "from keras.models import Model\n",
    "from keras.layers import Conv2D, MaxPooling2D, Flatten, Dense, Dropout, InputLayer, BatchNormalization\n",
    "from keras.models import Sequential\n",
    "import datetime"
   ]
  },
  {
   "cell_type": "code",
   "execution_count": 3,
   "metadata": {
    "colab": {
     "base_uri": "https://localhost:8080/"
    },
    "id": "liUzS8u_77Ev",
    "outputId": "a06d98f0-768b-4ba6-d2c0-bee2bbfb6907"
   },
   "outputs": [],
   "source": [
    "vgg_model = vgg16.VGG16(include_top = False, weights = 'imagenet', input_shape = (224, 224, 3))"
   ]
  },
  {
   "cell_type": "code",
   "execution_count": 4,
   "metadata": {
    "id": "QTuOKvGt8-J0"
   },
   "outputs": [],
   "source": [
    "vgg_model.trainable = True\n",
    "for layer in vgg_model.layers[:15]:\n",
    "    layer.trainable = False"
   ]
  },
  {
   "cell_type": "code",
   "execution_count": 5,
   "metadata": {
    "colab": {
     "base_uri": "https://localhost:8080/"
    },
    "id": "9gK_0duG63fH",
    "outputId": "c3e9c4f2-e1f1-44ed-b772-1b5a70fb1e5d"
   },
   "outputs": [
    {
     "name": "stdout",
     "output_type": "stream",
     "text": [
      "Model: \"vgg16\"\n",
      "_________________________________________________________________\n",
      "Layer (type)                 Output Shape              Param #   \n",
      "=================================================================\n",
      "input_1 (InputLayer)         [(None, 224, 224, 3)]     0         \n",
      "_________________________________________________________________\n",
      "block1_conv1 (Conv2D)        (None, 224, 224, 64)      1792      \n",
      "_________________________________________________________________\n",
      "block1_conv2 (Conv2D)        (None, 224, 224, 64)      36928     \n",
      "_________________________________________________________________\n",
      "block1_pool (MaxPooling2D)   (None, 112, 112, 64)      0         \n",
      "_________________________________________________________________\n",
      "block2_conv1 (Conv2D)        (None, 112, 112, 128)     73856     \n",
      "_________________________________________________________________\n",
      "block2_conv2 (Conv2D)        (None, 112, 112, 128)     147584    \n",
      "_________________________________________________________________\n",
      "block2_pool (MaxPooling2D)   (None, 56, 56, 128)       0         \n",
      "_________________________________________________________________\n",
      "block3_conv1 (Conv2D)        (None, 56, 56, 256)       295168    \n",
      "_________________________________________________________________\n",
      "block3_conv2 (Conv2D)        (None, 56, 56, 256)       590080    \n",
      "_________________________________________________________________\n",
      "block3_conv3 (Conv2D)        (None, 56, 56, 256)       590080    \n",
      "_________________________________________________________________\n",
      "block3_pool (MaxPooling2D)   (None, 28, 28, 256)       0         \n",
      "_________________________________________________________________\n",
      "block4_conv1 (Conv2D)        (None, 28, 28, 512)       1180160   \n",
      "_________________________________________________________________\n",
      "block4_conv2 (Conv2D)        (None, 28, 28, 512)       2359808   \n",
      "_________________________________________________________________\n",
      "block4_conv3 (Conv2D)        (None, 28, 28, 512)       2359808   \n",
      "_________________________________________________________________\n",
      "block4_pool (MaxPooling2D)   (None, 14, 14, 512)       0         \n",
      "_________________________________________________________________\n",
      "block5_conv1 (Conv2D)        (None, 14, 14, 512)       2359808   \n",
      "_________________________________________________________________\n",
      "block5_conv2 (Conv2D)        (None, 14, 14, 512)       2359808   \n",
      "_________________________________________________________________\n",
      "block5_conv3 (Conv2D)        (None, 14, 14, 512)       2359808   \n",
      "_________________________________________________________________\n",
      "block5_pool (MaxPooling2D)   (None, 7, 7, 512)         0         \n",
      "=================================================================\n",
      "Total params: 14,714,688\n",
      "Trainable params: 7,079,424\n",
      "Non-trainable params: 7,635,264\n",
      "_________________________________________________________________\n"
     ]
    }
   ],
   "source": [
    "vgg_model.summary()"
   ]
  },
  {
   "cell_type": "code",
   "execution_count": 6,
   "metadata": {
    "id": "wI0MPW7izC9l"
   },
   "outputs": [],
   "source": [
    "num_classes = 3\n",
    "\n",
    "output = vgg_model.output\n",
    "output = Flatten()(output)\n",
    "output = BatchNormalization()(output)\n",
    "output = Dropout(0.5)(output)\n",
    "output = Dense(512, activation = 'relu')(output)\n",
    "output = BatchNormalization()(output)\n",
    "output = Dropout(0.5)(output) \n",
    "output = Dense(256, activation='relu')(output)\n",
    "output = Dense(num_classes, activation='softmax')(output)\n",
    "\n",
    "model = Model(inputs = vgg_model.input, outputs = output)"
   ]
  },
  {
   "cell_type": "code",
   "execution_count": 7,
   "metadata": {
    "colab": {
     "base_uri": "https://localhost:8080/"
    },
    "id": "-I0dPeEHvI4q",
    "outputId": "ccf611e8-53c2-42cc-ba58-da3178b802a5"
   },
   "outputs": [
    {
     "name": "stdout",
     "output_type": "stream",
     "text": [
      "Found 2000 images belonging to 3 classes.\n",
      "Found 150 images belonging to 3 classes.\n",
      "Found 600 images belonging to 3 classes.\n"
     ]
    }
   ],
   "source": [
    "train_datagen = ImageDataGenerator(\n",
    "        rescale = 1./255,\n",
    "        shear_range = 0.2,\n",
    "        zoom_range = 0.2,\n",
    "        horizontal_flip = True)\n",
    "\n",
    "validation_datagen = ImageDataGenerator(rescale = 1. /255)\n",
    "\n",
    "test_datagen = ImageDataGenerator(rescale = 1. /255)\n",
    "\n",
    "training_set = train_datagen.flow_from_directory(\n",
    "        train_dir,\n",
    "        target_size = (224, 224),\n",
    "        batch_size = 25,\n",
    "        class_mode = 'categorical')\n",
    "\n",
    "validation_set = validation_datagen.flow_from_directory(\n",
    "        valid_dir,\n",
    "        target_size = (224, 224),\n",
    "        batch_size = 25,\n",
    "        class_mode = 'categorical')\n",
    "\n",
    "test_set = test_datagen.flow_from_directory(\n",
    "        test_dir,\n",
    "        target_size = (224, 224),\n",
    "        batch_size = 25,\n",
    "        class_mode = 'categorical')"
   ]
  },
  {
   "cell_type": "code",
   "execution_count": 8,
   "metadata": {
    "id": "CJAu4ZAlwKmU"
   },
   "outputs": [],
   "source": [
    "from tensorflow.keras.callbacks import ModelCheckpoint, EarlyStopping, LearningRateScheduler\n",
    "\n",
    "class myCallback(tf.keras.callbacks.Callback):\n",
    "  def on_epoch_end(self, epoch, logs = {}):\n",
    "    if (logs.get('accuracy') >= 0.9975):\n",
    "      print(\"Model stopped trainig\")\n",
    "      self.model.stop_training = True\n",
    "\n",
    "initial_learning_rate = 0.01\n",
    "n_epochs = 25\n",
    "decay = initial_learning_rate / n_epochs\n",
    "\n",
    "def lr_time_based_decay(epoch, lr):\n",
    "    return lr * 1 / (1 + decay * epoch)\n",
    "\n",
    "# early_stopping = EarlyStopping(monitor = 'val_accuracy', verbose = 0, mode = 'auto', restore_best_weights = True)\n",
    "model_ckpt = ModelCheckpoint(\"/ckpts/\", monitor = 'val_acc', verbose = 1, save_best_only = True, mode = 'max')\n",
    "cb = myCallback()\n",
    "# callbacks = [cb, early_stopping, model_ckpt, LearningRateScheduler(lr_time_based_decay, verbose = 1)]\n",
    "callbacks = [cb, model_ckpt, LearningRateScheduler(lr_time_based_decay, verbose = 1)]"
   ]
  },
  {
   "cell_type": "code",
   "execution_count": 9,
   "metadata": {},
   "outputs": [],
   "source": [
    "model.compile(optimizer = 'sgd', loss = 'categorical_crossentropy', metrics = ['accuracy'])"
   ]
  },
  {
   "cell_type": "code",
   "execution_count": 10,
   "metadata": {
    "colab": {
     "background_save": true,
     "base_uri": "https://localhost:8080/"
    },
    "id": "0WnD9bo7tR9i",
    "outputId": "e6333402-4349-44d8-f791-f376ef2ce368"
   },
   "outputs": [
    {
     "name": "stdout",
     "output_type": "stream",
     "text": [
      "\n",
      "Epoch 00001: LearningRateScheduler reducing learning rate to 0.009999999776482582.\n",
      "Epoch 1/25\n",
      "80/80 [==============================] - ETA: 0s - loss: 1.0095 - accuracy: 0.6255WARNING:tensorflow:Can save best model only with val_acc available, skipping.\n",
      "80/80 [==============================] - 343s 4s/step - loss: 1.0095 - accuracy: 0.6255 - val_loss: 2.2553 - val_accuracy: 0.3333\n",
      "\n",
      "Epoch 00002: LearningRateScheduler reducing learning rate to 0.00999600137593221.\n",
      "Epoch 2/25\n",
      "80/80 [==============================] - ETA: 0s - loss: 0.8402 - accuracy: 0.6675WARNING:tensorflow:Can save best model only with val_acc available, skipping.\n",
      "80/80 [==============================] - 335s 4s/step - loss: 0.8402 - accuracy: 0.6675 - val_loss: 1.1265 - val_accuracy: 0.5133\n",
      "\n",
      "Epoch 00003: LearningRateScheduler reducing learning rate to 0.009988011199709991.\n",
      "Epoch 3/25\n",
      "80/80 [==============================] - ETA: 0s - loss: 0.7889 - accuracy: 0.6805WARNING:tensorflow:Can save best model only with val_acc available, skipping.\n",
      "80/80 [==============================] - 333s 4s/step - loss: 0.7889 - accuracy: 0.6805 - val_loss: 1.0125 - val_accuracy: 0.5867\n",
      "\n",
      "Epoch 00004: LearningRateScheduler reducing learning rate to 0.009976039613443424.\n",
      "Epoch 4/25\n",
      "80/80 [==============================] - ETA: 0s - loss: 0.7245 - accuracy: 0.7005WARNING:tensorflow:Can save best model only with val_acc available, skipping.\n",
      "80/80 [==============================] - 333s 4s/step - loss: 0.7245 - accuracy: 0.7005 - val_loss: 1.2520 - val_accuracy: 0.5733\n",
      "\n",
      "Epoch 00005: LearningRateScheduler reducing learning rate to 0.009960103475045376.\n",
      "Epoch 5/25\n",
      "80/80 [==============================] - ETA: 0s - loss: 0.6857 - accuracy: 0.7175WARNING:tensorflow:Can save best model only with val_acc available, skipping.\n",
      "80/80 [==============================] - 332s 4s/step - loss: 0.6857 - accuracy: 0.7175 - val_loss: 1.2108 - val_accuracy: 0.5400\n",
      "\n",
      "Epoch 00006: LearningRateScheduler reducing learning rate to 0.009940223333364475.\n",
      "Epoch 6/25\n",
      "80/80 [==============================] - ETA: 0s - loss: 0.6871 - accuracy: 0.7150WARNING:tensorflow:Can save best model only with val_acc available, skipping.\n",
      "80/80 [==============================] - 332s 4s/step - loss: 0.6871 - accuracy: 0.7150 - val_loss: 1.1936 - val_accuracy: 0.6333\n",
      "\n",
      "Epoch 00007: LearningRateScheduler reducing learning rate to 0.00991642434991367.\n",
      "Epoch 7/25\n",
      "80/80 [==============================] - ETA: 0s - loss: 0.6510 - accuracy: 0.7345WARNING:tensorflow:Can save best model only with val_acc available, skipping.\n",
      "80/80 [==============================] - 364s 5s/step - loss: 0.6510 - accuracy: 0.7345 - val_loss: 0.8738 - val_accuracy: 0.6467\n",
      "\n",
      "Epoch 00008: LearningRateScheduler reducing learning rate to 0.009888736289670661.\n",
      "Epoch 8/25\n",
      "80/80 [==============================] - ETA: 0s - loss: 0.6248 - accuracy: 0.7320WARNING:tensorflow:Can save best model only with val_acc available, skipping.\n",
      "80/80 [==============================] - 371s 5s/step - loss: 0.6248 - accuracy: 0.7320 - val_loss: 0.9414 - val_accuracy: 0.6333\n",
      "\n",
      "Epoch 00009: LearningRateScheduler reducing learning rate to 0.009857193511900338.\n",
      "Epoch 9/25\n",
      "80/80 [==============================] - ETA: 0s - loss: 0.6085 - accuracy: 0.7400WARNING:tensorflow:Can save best model only with val_acc available, skipping.\n",
      "80/80 [==============================] - 371s 5s/step - loss: 0.6085 - accuracy: 0.7400 - val_loss: 0.8161 - val_accuracy: 0.6533\n",
      "\n",
      "Epoch 00010: LearningRateScheduler reducing learning rate to 0.00982183496099917.\n",
      "Epoch 10/25\n",
      "80/80 [==============================] - ETA: 0s - loss: 0.5941 - accuracy: 0.7505WARNING:tensorflow:Can save best model only with val_acc available, skipping.\n",
      "80/80 [==============================] - 373s 5s/step - loss: 0.5941 - accuracy: 0.7505 - val_loss: 1.1929 - val_accuracy: 0.5400\n",
      "\n",
      "Epoch 00011: LearningRateScheduler reducing learning rate to 0.00978270415736147.\n",
      "Epoch 11/25\n",
      "80/80 [==============================] - ETA: 0s - loss: 0.5774 - accuracy: 0.7530WARNING:tensorflow:Can save best model only with val_acc available, skipping.\n",
      "80/80 [==============================] - 372s 5s/step - loss: 0.5774 - accuracy: 0.7530 - val_loss: 0.8742 - val_accuracy: 0.6800\n",
      "\n",
      "Epoch 00012: LearningRateScheduler reducing learning rate to 0.009739849188267497.\n",
      "Epoch 12/25\n",
      "80/80 [==============================] - ETA: 0s - loss: 0.5605 - accuracy: 0.7690WARNING:tensorflow:Can save best model only with val_acc available, skipping.\n",
      "80/80 [==============================] - 365s 5s/step - loss: 0.5605 - accuracy: 0.7690 - val_loss: 0.7417 - val_accuracy: 0.6800\n",
      "\n",
      "Epoch 00013: LearningRateScheduler reducing learning rate to 0.009693320845046146.\n",
      "Epoch 13/25\n",
      "80/80 [==============================] - ETA: 0s - loss: 0.5632 - accuracy: 0.7595WARNING:tensorflow:Can save best model only with val_acc available, skipping.\n",
      "80/80 [==============================] - 355s 4s/step - loss: 0.5632 - accuracy: 0.7595 - val_loss: 1.2779 - val_accuracy: 0.4800\n",
      "\n",
      "Epoch 00014: LearningRateScheduler reducing learning rate to 0.00964317632371384.\n",
      "Epoch 14/25\n",
      "80/80 [==============================] - ETA: 0s - loss: 0.5552 - accuracy: 0.7800WARNING:tensorflow:Can save best model only with val_acc available, skipping.\n",
      "80/80 [==============================] - 349s 4s/step - loss: 0.5552 - accuracy: 0.7800 - val_loss: 0.9685 - val_accuracy: 0.6400\n",
      "\n",
      "Epoch 00015: LearningRateScheduler reducing learning rate to 0.009589475507691632.\n",
      "Epoch 15/25\n",
      "80/80 [==============================] - ETA: 0s - loss: 0.5537 - accuracy: 0.7680WARNING:tensorflow:Can save best model only with val_acc available, skipping.\n",
      "80/80 [==============================] - 351s 4s/step - loss: 0.5537 - accuracy: 0.7680 - val_loss: 0.7996 - val_accuracy: 0.7000\n",
      "\n",
      "Epoch 00016: LearningRateScheduler reducing learning rate to 0.00953228188823042.\n",
      "Epoch 16/25\n",
      "80/80 [==============================] - ETA: 0s - loss: 0.5432 - accuracy: 0.7765WARNING:tensorflow:Can save best model only with val_acc available, skipping.\n",
      "80/80 [==============================] - 352s 4s/step - loss: 0.5432 - accuracy: 0.7765 - val_loss: 1.0980 - val_accuracy: 0.6200\n",
      "\n",
      "Epoch 00017: LearningRateScheduler reducing learning rate to 0.009471663482641189.\n",
      "Epoch 17/25\n",
      "80/80 [==============================] - ETA: 0s - loss: 0.5255 - accuracy: 0.7900WARNING:tensorflow:Can save best model only with val_acc available, skipping.\n",
      "80/80 [==============================] - 349s 4s/step - loss: 0.5255 - accuracy: 0.7900 - val_loss: 0.8520 - val_accuracy: 0.6667\n",
      "\n",
      "Epoch 00018: LearningRateScheduler reducing learning rate to 0.009407690975239318.\n",
      "Epoch 18/25\n",
      "80/80 [==============================] - ETA: 0s - loss: 0.5045 - accuracy: 0.7910WARNING:tensorflow:Can save best model only with val_acc available, skipping.\n",
      "80/80 [==============================] - 351s 4s/step - loss: 0.5045 - accuracy: 0.7910 - val_loss: 1.1143 - val_accuracy: 0.5867\n",
      "\n",
      "Epoch 00019: LearningRateScheduler reducing learning rate to 0.00934043956137868.\n",
      "Epoch 19/25\n",
      "80/80 [==============================] - ETA: 0s - loss: 0.5027 - accuracy: 0.7945WARNING:tensorflow:Can save best model only with val_acc available, skipping.\n",
      "80/80 [==============================] - 353s 4s/step - loss: 0.5027 - accuracy: 0.7945 - val_loss: 1.0986 - val_accuracy: 0.6867\n",
      "\n",
      "Epoch 00020: LearningRateScheduler reducing learning rate to 0.009269988014199705.\n",
      "Epoch 20/25\n",
      "80/80 [==============================] - ETA: 0s - loss: 0.4800 - accuracy: 0.8015WARNING:tensorflow:Can save best model only with val_acc available, skipping.\n",
      "80/80 [==============================] - 349s 4s/step - loss: 0.4800 - accuracy: 0.8015 - val_loss: 0.9644 - val_accuracy: 0.7000\n",
      "\n",
      "Epoch 00021: LearningRateScheduler reducing learning rate to 0.00919641682966834.\n",
      "Epoch 21/25\n",
      "80/80 [==============================] - ETA: 0s - loss: 0.5054 - accuracy: 0.7905WARNING:tensorflow:Can save best model only with val_acc available, skipping.\n",
      "80/80 [==============================] - 348s 4s/step - loss: 0.5054 - accuracy: 0.7905 - val_loss: 0.8036 - val_accuracy: 0.7200\n",
      "\n",
      "Epoch 00022: LearningRateScheduler reducing learning rate to 0.009119810070288366.\n",
      "Epoch 22/25\n",
      "80/80 [==============================] - ETA: 0s - loss: 0.4757 - accuracy: 0.8010WARNING:tensorflow:Can save best model only with val_acc available, skipping.\n",
      "80/80 [==============================] - 350s 4s/step - loss: 0.4757 - accuracy: 0.8010 - val_loss: 0.9083 - val_accuracy: 0.6667\n",
      "\n",
      "Epoch 00023: LearningRateScheduler reducing learning rate to 0.009040255358030548.\n",
      "Epoch 23/25\n",
      "80/80 [==============================] - ETA: 0s - loss: 0.4549 - accuracy: 0.8135WARNING:tensorflow:Can save best model only with val_acc available, skipping.\n",
      "80/80 [==============================] - 351s 4s/step - loss: 0.4549 - accuracy: 0.8135 - val_loss: 0.7626 - val_accuracy: 0.7000\n",
      "\n",
      "Epoch 00024: LearningRateScheduler reducing learning rate to 0.008957842944446084.\n",
      "Epoch 24/25\n",
      "80/80 [==============================] - ETA: 0s - loss: 0.4638 - accuracy: 0.8170WARNING:tensorflow:Can save best model only with val_acc available, skipping.\n",
      "80/80 [==============================] - 351s 4s/step - loss: 0.4638 - accuracy: 0.8170 - val_loss: 0.9028 - val_accuracy: 0.6733\n",
      "\n",
      "Epoch 00025: LearningRateScheduler reducing learning rate to 0.008872665705457448.\n",
      "Epoch 25/25\n",
      "80/80 [==============================] - ETA: 0s - loss: 0.4375 - accuracy: 0.8065WARNING:tensorflow:Can save best model only with val_acc available, skipping.\n",
      "80/80 [==============================] - 346s 4s/step - loss: 0.4375 - accuracy: 0.8065 - val_loss: 0.8855 - val_accuracy: 0.6867\n"
     ]
    }
   ],
   "source": [
    "history = model.fit(\n",
    "        training_set,\n",
    "        steps_per_epoch = 80,\n",
    "        epochs = n_epochs,\n",
    "        validation_data = validation_set,\n",
    "        validation_steps = 6,\n",
    "        callbacks = callbacks\n",
    "        )"
   ]
  },
  {
   "cell_type": "code",
   "execution_count": 11,
   "metadata": {
    "colab": {
     "base_uri": "https://localhost:8080/",
     "height": 295
    },
    "id": "KS-IoiPnDmda",
    "outputId": "d2369fae-bdf4-4f1c-c1fe-8fa096671734"
   },
   "outputs": [
    {
     "data": {
      "image/png": "[encoded data removed]",
      "text/plain": [
       "<Figure size 432x288 with 1 Axes>"
      ]
     },
     "metadata": {
      "needs_background": "light"
     },
     "output_type": "display_data"
    }
   ],
   "source": [
    "from matplotlib import pyplot as plt\n",
    "plt.plot(history.history['accuracy'])\n",
    "plt.plot(history.history['val_accuracy'])\n",
    "plt.title('model accuracy')\n",
    "plt.ylabel('accuracy')\n",
    "plt.xlabel('epoch')\n",
    "plt.legend(['train', 'val'], loc='upper left')\n",
    "plt.show()"
   ]
  },
  {
   "cell_type": "code",
   "execution_count": 12,
   "metadata": {
    "colab": {
     "base_uri": "https://localhost:8080/",
     "height": 295
    },
    "id": "wJd69pHFYGw0",
    "outputId": "b5e0dbbf-40fb-4a6f-bda1-6972da1c43b2"
   },
   "outputs": [
    {
     "data": {
      "image/png": "[encoded data removed]",
      "text/plain": [
       "<Figure size 432x288 with 1 Axes>"
      ]
     },
     "metadata": {
      "needs_background": "light"
     },
     "output_type": "display_data"
    }
   ],
   "source": [
    "plt.plot(history.history['loss'])\n",
    "plt.plot(history.history['val_loss'])\n",
    "plt.title('model loss')\n",
    "plt.ylabel('loss')\n",
    "plt.xlabel('epoch') \n",
    "plt.legend(['train', 'val'], loc='upper left')\n",
    "plt.show()"
   ]
  },
  {
   "cell_type": "code",
   "execution_count": 13,
   "metadata": {
    "colab": {
     "base_uri": "https://localhost:8080/"
    },
    "id": "EzpL6t8CYK3E",
    "outputId": "60f38e87-4206-4d61-91a2-f97bcc2fcde4"
   },
   "outputs": [
    {
     "name": "stdout",
     "output_type": "stream",
     "text": [
      "WARNING:tensorflow:From C:\\Users\\hari5\\AppData\\Local\\Temp\\ipykernel_90852\\181302441.py:4: Model.predict_generator (from tensorflow.python.keras.engine.training) is deprecated and will be removed in a future version.\n",
      "Instructions for updating:\n",
      "Please use Model.predict, which supports generators.\n",
      "WARNING:tensorflow:Your input ran out of data; interrupting training. Make sure that your dataset or generator can generate at least `steps_per_epoch * epochs` batches (in this case, 600 batches). You may need to use the repeat() function when building your dataset.\n"
     ]
    }
   ],
   "source": [
    "filenames = test_set.filenames\n",
    "nb_samples = len(filenames)\n",
    "\n",
    "predict = model.predict_generator(test_set, steps = nb_samples)"
   ]
  },
  {
   "cell_type": "code",
   "execution_count": 14,
   "metadata": {
    "colab": {
     "base_uri": "https://localhost:8080/"
    },
    "id": "5hLvGq3DcJfP",
    "outputId": "b0c46ba8-35e7-43d6-db03-e8d4fdcb076d"
   },
   "outputs": [
    {
     "name": "stdout",
     "output_type": "stream",
     "text": [
      "[[  3  54  60]\n",
      " [ 14 231 148]\n",
      " [  4  50  36]]\n"
     ]
    }
   ],
   "source": [
    "from sklearn.metrics import confusion_matrix\n",
    "import numpy as np\n",
    "\n",
    "pred_labels = list(np.argmax(predict, axis=-1))\n",
    "true_labels = test_set.classes\n",
    "\n",
    "cm = confusion_matrix(true_labels, pred_labels)\n",
    "print(cm)"
   ]
  }
 ],
 "metadata": {
  "accelerator": "TPU",
  "colab": {
   "collapsed_sections": [],
   "name": "Skin-Cancer-Detection.ipynb",
   "provenance": []
  },
  "kernelspec": {
   "display_name": "tf-gpu-cuda8",
   "language": "python",
   "name": "python3"
  },
  "language_info": {
   "codemirror_mode": {
    "name": "ipython",
    "version": 3
   },
   "file_extension": ".py",
   "mimetype": "text/x-python",
   "name": "python",
   "nbconvert_exporter": "python",
   "pygments_lexer": "ipython3",
   "version": "3.8.13"
  },
  "vscode": {
   "interpreter": {
    "hash": "f2017f6cfd84c2dcc4b68475b25458aafaf5a5d0715599f52c9cbe9ddc7e38fc"
   }
  }
 },
 "nbformat": 4,
 "nbformat_minor": 1
}
